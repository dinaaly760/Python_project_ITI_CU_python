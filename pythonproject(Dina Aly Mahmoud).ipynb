{
 "cells": [
  {
   "cell_type": "code",
   "execution_count": 1,
   "id": "5ee2a0d6-bed1-488c-b1f4-dc4296781d8f",
   "metadata": {
    "tags": []
   },
   "outputs": [],
   "source": [
    "import re\n",
    "from datetime import datetime"
   ]
  },
  {
   "cell_type": "code",
   "execution_count": 2,
   "id": "196d3a16-9f8f-4c1b-9958-0a8d12d040af",
   "metadata": {
    "tags": []
   },
   "outputs": [],
   "source": [
    "users = []\n",
    "projects = []"
   ]
  },
  {
   "cell_type": "code",
   "execution_count": 3,
   "id": "d69d19ff-22e2-4cd3-9c3c-2f0a4d3c5b5f",
   "metadata": {
    "tags": []
   },
   "outputs": [],
   "source": [
    "class User:\n",
    "    def __init__(self, first_name, last_name, email, password, phone):\n",
    "        self.first_name = first_name\n",
    "        self.last_name = last_name\n",
    "        self.email = email\n",
    "        self.password = password\n",
    "        self.phone = phone\n",
    "        self.is_active = False"
   ]
  },
  {
   "cell_type": "code",
   "execution_count": 4,
   "id": "2f934de6-cf83-4524-a152-ade890748409",
   "metadata": {
    "tags": []
   },
   "outputs": [],
   "source": [
    "class Project:\n",
    "    def __init__(self, title, details, target, start_date, end_date, creator):\n",
    "        self.title = title\n",
    "        self.details = details\n",
    "        self.target = target\n",
    "        self.start_date = start_date\n",
    "        self.end_date = end_date\n",
    "        self.creator = creator"
   ]
  },
  {
   "cell_type": "code",
   "execution_count": 5,
   "id": "dcb01929-6ef0-46af-b855-c29f486e4e04",
   "metadata": {
    "tags": []
   },
   "outputs": [],
   "source": [
    "def register():\n",
    "    print(\"Please enter your details to register:\")\n",
    "    first_name = input(\"First name: \")\n",
    "    last_name = input(\"Last name: \")\n",
    "    email = input(\"Email: \")\n",
    "    password = input(\"Password: \")\n",
    "    confirm_password = input(\"Confirm password: \")\n",
    "    phone = input(\"Mobile phone: \")\n",
    "\n",
    "    # validate phone number using regex pattern for Egyptian numbers\n",
    "    phone_pattern = r\"^(01)[0125][0-9]{8}$\"\n",
    "    if not re.match(phone_pattern, phone):\n",
    "        print(\"Invalid phone number.\")\n",
    "        return\n",
    "\n",
    "    # check if email already exists in users list\n",
    "    for user in users:\n",
    "        if user.email == email:\n",
    "            print(\"Email already exists.\")\n",
    "            return\n",
    "\n",
    "    # check if password and confirm_password match\n",
    "    if password != confirm_password:\n",
    "        print(\"Passwords do not match.\")\n",
    "        return\n",
    "\n",
    "    user = User(first_name, last_name, email, password, phone)\n",
    "    users.append(user)\n",
    "    print(\"Registration successful.\")"
   ]
  },
  {
   "cell_type": "code",
   "execution_count": 6,
   "id": "92b57dec-51d5-4d88-8052-a19f31018492",
   "metadata": {
    "tags": []
   },
   "outputs": [],
   "source": [
    "def login():\n",
    "    print(\"Please enter your email and password to login:\")\n",
    "    email = input(\"Email: \")\n",
    "    password = input(\"Password: \")\n",
    "\n",
    "    for user in users:\n",
    "        if user.email == email and user.password == password:\n",
    "            if user.is_active:\n",
    "                print(\"Login successful.\")\n",
    "                return user\n",
    "            else:\n",
    "                print(\"Account not activated.\")\n",
    "                return None\n",
    "\n",
    "    print(\"Invalid email or password.\")\n",
    "    return None"
   ]
  },
  {
   "cell_type": "code",
   "execution_count": 7,
   "id": "0ea2befb-10f6-4a00-aff0-6805b505bd00",
   "metadata": {
    "tags": []
   },
   "outputs": [],
   "source": [
    "def activate_account():\n",
    "    print(\"Please enter your email and activation code:\")\n",
    "    email = input(\"Email: \")\n",
    "    activation_code = input(\"Activation code: \")\n",
    "\n",
    "    for user in users:\n",
    "        if user.email == email:\n",
    "            if activation_code == \"1234\": \n",
    "                user.is_active = True\n",
    "                print(\"Account activated.\")\n",
    "                return\n",
    "            else:\n",
    "                print(\"Invalid activation code.\")\n",
    "                return\n",
    "\n",
    "    print(\"Invalid email.\")\n",
    "\n",
    "\n",
    "   "
   ]
  },
  {
   "cell_type": "code",
   "execution_count": 8,
   "id": "0ccb5b66-fc17-49ac-b985-dae5f3337d80",
   "metadata": {
    "tags": []
   },
   "outputs": [],
   "source": [
    "def create_project(user):\n",
    "    print(\"Please enter project details:\")\n",
    "    title = input(\"Title: \")\n",
    "    details = input(\"Details: \")\n",
    "    target = input(\"Total target: \")\n",
    "    start_date = input(\"Start date (YYYY-MM-DD): \")\n",
    "    end_date = input(\"End date (YYYY-MM-DD): \")\n",
    "\n",
    "    # validate start_date and end_date format\n",
    "    date_pattern = r\"^\\d{4}-\\d{2}-\\d{2}$\"\n",
    "    if not re.match(date_pattern, start_date) or not re.match(date_pattern, end_date):\n",
    "        print(\"Invalid date format.\")\n",
    "        return\n",
    "\n",
    "    # convert start_date and end_date strings to datetime objects\n",
    "    start_date = datetime.strptime(start_date, \"%Y-%m-%d\")\n",
    "    end_date = datetime.strptime(end_date, \"%Y-%m-%d\")\n",
    "\n",
    "    # check if end_date is after start_date\n",
    "    if end_date <= start_date:\n",
    "        print(\"End date must be after start date.\")\n",
    "        return\n",
    "\n",
    "    project = Project(title, details, target, start_date, end_date, user)\n",
    "    projects.append(project)\n",
    "    print(\"Project created successfully.\")\n"
   ]
  },
  {
   "cell_type": "code",
   "execution_count": 9,
   "id": "8986e12b-4354-4dea-9f45-b7ce25c224bd",
   "metadata": {
    "tags": []
   },
   "outputs": [],
   "source": [
    "def view_projects():\n",
    "    print(\"All Projects:\")\n",
    "    for project in projects:\n",
    "        print(f\"\\nTitle: {project.title}\")\n",
    "        print(f\"Details: {project.details}\")\n",
    "        print(f\"Target: {project.target}\")\n",
    "        print(f\"Start date: {project.start_date.strftime('%Y-%m-%d')}\")\n",
    "        print(f\"End date: {project.end_date.strftime('%Y-%m-%d')}\")\n",
    "       "
   ]
  },
  {
   "cell_type": "code",
   "execution_count": 10,
   "id": "00636e92-d0f7-4510-b52b-075479fa1f2b",
   "metadata": {
    "tags": []
   },
   "outputs": [],
   "source": [
    "def edit_project(user):\n",
    "    title = input(\"Enter the title of the project you want to edit: \")\n",
    "    for project in projects:\n",
    "        if project.title == title:\n",
    "            print(f\"\\nCurrent Details: {project.details}\")\n",
    "            new_details = input(\"Enter new details: \")\n",
    "            project.details = new_details\n",
    "            print(\"Project updated successfully.\")\n",
    "            return\n",
    "    print(\"Project not found or you don't have permission to edit this project.\")"
   ]
  },
  {
   "cell_type": "code",
   "execution_count": 11,
   "id": "62e5f81f-6739-44d5-8eb8-f3d0238d634c",
   "metadata": {
    "tags": []
   },
   "outputs": [],
   "source": [
    "def delete_project(user):\n",
    "    title = input(\"Enter the title of the project you want to delete: \")\n",
    "    for i, project in enumerate(projects):\n",
    "        if project.title == title :\n",
    "            del projects[i]\n",
    "            print(\"Project deleted successfully.\")\n",
    "            return\n",
    "    print(\"Project not found or you don't have permission to delete this project.\")"
   ]
  },
  {
   "cell_type": "code",
   "execution_count": 12,
   "id": "d1473562-31ed-44b1-be37-d9f9cdf249ee",
   "metadata": {
    "tags": []
   },
   "outputs": [],
   "source": [
    "def search_projects_by_date():\n",
    "    date_str = input(\"Enter the date you want to search for (YYYY-MM-DD): \")\n",
    "    date_pattern = r\"^\\d{4}-\\d{2}-\\d{2}$\"\n",
    "    if not re.match(date_pattern, date_str):\n",
    "        print(\"Invalid date format.\")\n",
    "        return\n",
    "    date = datetime.strptime(date_str, \"%Y-%m-%d\")\n",
    "    found = False\n",
    "    for project in projects:\n",
    "        if project.start_date <= date <= project.end_date:\n",
    "            print(f\"\\nTitle: {project.title}\")\n",
    "            print(f\"Details: {project.details}\")\n",
    "            print(f\"Target: {project.target}\")\n",
    "            print(f\"Start date: {project.start_date.strftime('%Y-%m-%d')}\")\n",
    "            print(f\"End date: {project.end_date.strftime('%Y-%m-%d')}\")\n",
    "            found = True\n",
    "    if not found:\n",
    "        print(\"No projects found for this date range.\")"
   ]
  },
  {
   "cell_type": "code",
   "execution_count": 14,
   "id": "cf63ab64-f060-46e8-b5f1-32bc12b521b2",
   "metadata": {
    "tags": []
   },
   "outputs": [],
   "source": [
    "def main():\n",
    "    while True:\n",
    "        print(\"\\n1. Register\\n2. Login\\n3. Activate account\\n4. Create project\\n5. View projects\\n6. Edit project\\n7. Delete project\\n8. Search projects by date\\n9. Exit\")\n",
    "        choice = input(\"Enter your choice: \")\n",
    "\n",
    "        if choice == \"1\":\n",
    "            register()\n",
    "        elif choice == \"2\":\n",
    "            user = login()\n",
    "            if user is not None:\n",
    "                # do something\n",
    "                pass\n",
    "        elif choice == \"3\":\n",
    "            activate_account()\n",
    "        elif choice == \"4\":\n",
    "            user = login()\n",
    "            if user is not None:\n",
    "                create_project(user)\n",
    "        elif choice == \"5\":\n",
    "            view_projects()\n",
    "        elif choice == \"6\":\n",
    "            user = login()\n",
    "            if user is not None:\n",
    "                edit_project(user)\n",
    "        elif choice == \"7\":\n",
    "            user = login()\n",
    "            if user is not None:\n",
    "                delete_project(user)\n",
    "        elif choice == \"8\":\n",
    "            search_projects_by_date()\n",
    "        elif choice == \"9\":\n",
    "            print(\"nice day in ITI ,Goodby!\")\n",
    "            break\n",
    "        else:\n",
    "            print(\"Invalid choice. Please try again.\")"
   ]
  },
  {
   "cell_type": "code",
   "execution_count": 15,
   "id": "e1bc42a4-8637-47c2-a618-799e8e6ae7ce",
   "metadata": {
    "tags": []
   },
   "outputs": [
    {
     "name": "stdout",
     "output_type": "stream",
     "text": [
      "\n",
      "1. Register\n",
      "2. Login\n",
      "3. Activate account\n",
      "4. Create project\n",
      "5. View projects\n",
      "6. Edit project\n",
      "7. Delete project\n",
      "8. Search projects by date\n",
      "9. Exit\n"
     ]
    },
    {
     "name": "stdin",
     "output_type": "stream",
     "text": [
      "Enter your choice:  1\n"
     ]
    },
    {
     "name": "stdout",
     "output_type": "stream",
     "text": [
      "Please enter your details to register:\n"
     ]
    },
    {
     "name": "stdin",
     "output_type": "stream",
     "text": [
      "First name:  Dina \n",
      "Last name:  Aly\n",
      "Email:  dinaaly760@gmail.com\n",
      "Password:  Scientist332@\n",
      "Confirm password:  Scientist332@\n",
      "Mobile phone:  01028934994\n"
     ]
    },
    {
     "name": "stdout",
     "output_type": "stream",
     "text": [
      "Registration successful.\n",
      "\n",
      "1. Register\n",
      "2. Login\n",
      "3. Activate account\n",
      "4. Create project\n",
      "5. View projects\n",
      "6. Edit project\n",
      "7. Delete project\n",
      "8. Search projects by date\n",
      "9. Exit\n"
     ]
    },
    {
     "name": "stdin",
     "output_type": "stream",
     "text": [
      "Enter your choice:  2\n"
     ]
    },
    {
     "name": "stdout",
     "output_type": "stream",
     "text": [
      "Please enter your email and password to login:\n"
     ]
    },
    {
     "name": "stdin",
     "output_type": "stream",
     "text": [
      "Email:  dinaaly760@gmail.com\n",
      "Password:  Scientist332@\n"
     ]
    },
    {
     "name": "stdout",
     "output_type": "stream",
     "text": [
      "Account not activated.\n",
      "\n",
      "1. Register\n",
      "2. Login\n",
      "3. Activate account\n",
      "4. Create project\n",
      "5. View projects\n",
      "6. Edit project\n",
      "7. Delete project\n",
      "8. Search projects by date\n",
      "9. Exit\n"
     ]
    },
    {
     "name": "stdin",
     "output_type": "stream",
     "text": [
      "Enter your choice:  3\n"
     ]
    },
    {
     "name": "stdout",
     "output_type": "stream",
     "text": [
      "Please enter your email and activation code:\n"
     ]
    },
    {
     "name": "stdin",
     "output_type": "stream",
     "text": [
      "Email:  dinaaly760@gmail.com\n",
      "Activation code:  1234\n"
     ]
    },
    {
     "name": "stdout",
     "output_type": "stream",
     "text": [
      "Account activated.\n",
      "\n",
      "1. Register\n",
      "2. Login\n",
      "3. Activate account\n",
      "4. Create project\n",
      "5. View projects\n",
      "6. Edit project\n",
      "7. Delete project\n",
      "8. Search projects by date\n",
      "9. Exit\n"
     ]
    },
    {
     "name": "stdin",
     "output_type": "stream",
     "text": [
      "Enter your choice:  4\n"
     ]
    },
    {
     "name": "stdout",
     "output_type": "stream",
     "text": [
      "Please enter your email and password to login:\n"
     ]
    },
    {
     "name": "stdin",
     "output_type": "stream",
     "text": [
      "Email:  dinaaly760@gmail.com\n",
      "Password:  Scientist332@\n"
     ]
    },
    {
     "name": "stdout",
     "output_type": "stream",
     "text": [
      "Login successful.\n",
      "Please enter project details:\n"
     ]
    },
    {
     "name": "stdin",
     "output_type": "stream",
     "text": [
      "Title:  learning\n",
      "Details:  collect money to help poor people learning in high quality places\n",
      "Total target:  500000000000000000\n",
      "Start date (YYYY-MM-DD):  2023-10-29\n",
      "End date (YYYY-MM-DD):  2040-10-29\n"
     ]
    },
    {
     "name": "stdout",
     "output_type": "stream",
     "text": [
      "Project created successfully.\n",
      "\n",
      "1. Register\n",
      "2. Login\n",
      "3. Activate account\n",
      "4. Create project\n",
      "5. View projects\n",
      "6. Edit project\n",
      "7. Delete project\n",
      "8. Search projects by date\n",
      "9. Exit\n"
     ]
    },
    {
     "name": "stdin",
     "output_type": "stream",
     "text": [
      "Enter your choice:  5\n"
     ]
    },
    {
     "name": "stdout",
     "output_type": "stream",
     "text": [
      "All Projects:\n",
      "\n",
      "Title: learning\n",
      "Details: collect money to help poor people learning in high quality places\n",
      "Target: 500000000000000000\n",
      "Start date: 2023-10-29\n",
      "End date: 2040-10-29\n",
      "\n",
      "1. Register\n",
      "2. Login\n",
      "3. Activate account\n",
      "4. Create project\n",
      "5. View projects\n",
      "6. Edit project\n",
      "7. Delete project\n",
      "8. Search projects by date\n",
      "9. Exit\n"
     ]
    },
    {
     "name": "stdin",
     "output_type": "stream",
     "text": [
      "Enter your choice:  8\n",
      "Enter the date you want to search for (YYYY-MM-DD):  2023-10-29\n"
     ]
    },
    {
     "name": "stdout",
     "output_type": "stream",
     "text": [
      "\n",
      "Title: learning\n",
      "Details: collect money to help poor people learning in high quality places\n",
      "Target: 500000000000000000\n",
      "Start date: 2023-10-29\n",
      "End date: 2040-10-29\n",
      "\n",
      "1. Register\n",
      "2. Login\n",
      "3. Activate account\n",
      "4. Create project\n",
      "5. View projects\n",
      "6. Edit project\n",
      "7. Delete project\n",
      "8. Search projects by date\n",
      "9. Exit\n"
     ]
    },
    {
     "name": "stdin",
     "output_type": "stream",
     "text": [
      "Enter your choice:  9\n"
     ]
    },
    {
     "name": "stdout",
     "output_type": "stream",
     "text": [
      "Goodbye!\n"
     ]
    }
   ],
   "source": [
    "main()"
   ]
  },
  {
   "cell_type": "code",
   "execution_count": null,
   "id": "d49f9a50-0246-4ab1-9e94-e4ef4368d14d",
   "metadata": {},
   "outputs": [],
   "source": []
  }
 ],
 "metadata": {
  "kernelspec": {
   "display_name": "Python 3 (ipykernel)",
   "language": "python",
   "name": "python3"
  },
  "language_info": {
   "codemirror_mode": {
    "name": "ipython",
    "version": 3
   },
   "file_extension": ".py",
   "mimetype": "text/x-python",
   "name": "python",
   "nbconvert_exporter": "python",
   "pygments_lexer": "ipython3",
   "version": "3.11.3"
  }
 },
 "nbformat": 4,
 "nbformat_minor": 5
}
